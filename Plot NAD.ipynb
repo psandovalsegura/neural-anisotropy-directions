{
 "cells": [
  {
   "cell_type": "markdown",
   "metadata": {},
   "source": [
    "# Neural Anisotropy Directions\n",
    "\n",
    "**Authors**: Guillermo Ortiz-Jimenez, Apostolos Modas, Seyed-Mohsen Moosavi-Dezfooli and Pascal Frossard"
   ]
  },
  {
   "cell_type": "markdown",
   "metadata": {},
   "source": [
    "## Table of contents\n",
    "\n",
    "- [General training setup](#training_setup)\n",
    "- [Linearly separable dataset](#gen_linear_data)\n",
    "- [NAD Computation](#vis_NADs)\n",
    "- [Poisoning CIFAR-10 dataset](#poison)"
   ]
  },
  {
   "cell_type": "code",
   "execution_count": 1,
   "metadata": {},
   "outputs": [],
   "source": [
    "import numpy as np\n",
    "\n",
    "import torch\n",
    "import torch.nn as nn\n",
    "import torch.nn.functional as F\n",
    "import torch.utils.data as data\n",
    "import torchvision\n",
    "import torchvision.transforms as transforms\n",
    "\n",
    "from sklearn.utils import shuffle\n",
    "from sklearn.decomposition import PCA\n",
    "from torch.utils.data import DataLoader\n",
    "from models import TransformLayer\n",
    "from models import LogReg, LeNet, VGG11_bn, ResNet18, DenseNet121\n",
    "from vit import ViT\n",
    "\n",
    "import seaborn as sns\n",
    "import matplotlib.pyplot as plt\n",
    "%matplotlib inline\n",
    "\n",
    "DEVICE = 'cuda' if torch.cuda.is_available() else 'cpu'"
   ]
  },
  {
   "cell_type": "markdown",
   "metadata": {},
   "source": [
    "We expect that you have stored all NADs in the path `./NADs/`. The next lines of code let you visualize them."
   ]
  },
  {
   "cell_type": "code",
   "execution_count": 2,
   "metadata": {},
   "outputs": [],
   "source": [
    "NAD_dir = './NADs/'\n",
    "architecture = 'ViT' # 'LogReg', 'LeNet', 'VGG11', 'ResNet18', 'DenseNet121'\n",
    "\n",
    "# Indices to visualize\n",
    "indices = list(range(5))"
   ]
  },
  {
   "cell_type": "code",
   "execution_count": 3,
   "metadata": {},
   "outputs": [
    {
     "data": {
      "image/png": "[encoded data removed]",
      "text/plain": [
       "<Figure size 1080x360 with 10 Axes>"
      ]
     },
     "metadata": {
      "needs_background": "light"
     },
     "output_type": "display_data"
    }
   ],
   "source": [
    "NAD_path = NAD_dir + architecture + '_NADs.npy'\n",
    "\n",
    "NADs = np.load(NAD_path).reshape([-1, 32, 32])\n",
    "\n",
    "plt.figure(figsize=(15,5))\n",
    "\n",
    "for n, index in enumerate(indices):\n",
    "    x = NADs[index]\n",
    "    \n",
    "    vmax = np.max([np.abs(x.max()), np.abs(x.min())])\n",
    "    vmin = -vmax\n",
    "\n",
    "    cmap = sns.cubehelix_palette(8, start=.5, rot=-.75, as_cmap=True, reverse=True)\n",
    "\n",
    "    x_fft = np.fft.fftshift(np.fft.fft2(x))\n",
    "    \n",
    "    plt.subplot(2*np.ceil(len(indices) / 5),5,n+5*(n// 5)+1)\n",
    "    plt.imshow(x, cmap='BrBG', vmin=vmin, vmax=vmax)\n",
    "    plt.title(r'Index %d'%index)\n",
    "    plt.axis('off')\n",
    "\n",
    "    plt.subplot(2*np.ceil(len(indices) / 5),5,n+5*(n// 5 + 1)+1)\n",
    "    plt.imshow(np.abs(x_fft)**2, cmap=cmap)\n",
    "    plt.axis('off')"
   ]
  }
 ],
 "metadata": {
  "kernelspec": {
   "display_name": "Python 3 (ipykernel)",
   "language": "python",
   "name": "python3"
  },
  "language_info": {
   "codemirror_mode": {
    "name": "ipython",
    "version": 3
   },
   "file_extension": ".py",
   "mimetype": "text/x-python",
   "name": "python",
   "nbconvert_exporter": "python",
   "pygments_lexer": "ipython3",
   "version": "3.8.3"
  }
 },
 "nbformat": 4,
 "nbformat_minor": 4
}
